{
  "nbformat": 4,
  "nbformat_minor": 0,
  "metadata": {
    "colab": {
      "provenance": []
    },
    "kernelspec": {
      "name": "python3",
      "display_name": "Python 3"
    },
    "language_info": {
      "name": "python"
    }
  },
  "cells": [
    {
      "cell_type": "markdown",
      "source": [
        "NLG vs. GAN\n",
        "\n",
        "NLG use case cyber perspect: generating phishing mails"
      ],
      "metadata": {
        "id": "SCjjBzdR8qau"
      }
    },
    {
      "cell_type": "markdown",
      "source": [
        "H-GAN (homomorphic)\n",
        "\n",
        "\n",
        "key disposal- permanent access lost to priv info VS. decryption not needed."
      ],
      "metadata": {
        "id": "NSGSWdrs1a3O"
      }
    },
    {
      "cell_type": "markdown",
      "source": [
        "# why not just use non-homomorphic algos which ensure decryption is must?\n",
        "\n",
        "When you don’t know what exact part of the data might be sensitive or prone to leaks. True and neither can attackers figure out what exactly the data represents even when they see it being processed,\n",
        "\n",
        "* Collaborative Multi-Party Computation (**MPC**): When multiple organizations want to collaborate securely but do not fully trust each other with raw data, homomorphic encryption enables analysis without revealing the actual contents. Standard encryption would require a central trusted party, which introduces the risk of data breaches.\n",
        "\n",
        "* **Outsourcing** Malware Analysis from Third Parties: In scenarios where you need to outsource malware analysis to an external security provider but don’t want to reveal your proprietary or sensitive data, homomorphic encryption allows analysis in a secure manner. Standard encryption would require decryption by the service provider, exposing data. untrusted uncontrolled environments.\n",
        "\n",
        "* Data Sensitivity & Regulatory Compliance: Some malware samples might contain **PII** (Personally Identifiable Information) or proprietary code. Regulations like **GDPR** or **HIPAA** might mandate that even security analysis be done without decrypting such data. Homomorphic encryption allows you to remain compliant while still sharing data for joint analysis. this applies When data regulations require encryption at all stages (even during processing).\n",
        "\n",
        "note: homomorphic encryption protects data during computation, while **zero-knowledge proofs** prove the validity of information during verification. both of them are **privacy-preserving techniques**."
      ],
      "metadata": {
        "id": "pR3YswIE2242"
      }
    },
    {
      "cell_type": "markdown",
      "source": [
        "#***Task-***\n",
        "Analyze encrypted network traffic data that may contain indicators of compromise (IOCs) from a honeypot to detect potential malware activity without exposing the raw data."
      ],
      "metadata": {
        "id": "97sBEpUpavg9"
      }
    },
    {
      "cell_type": "code",
      "source": [
        "!pip install phe\n",
        "!pip install scapy"
      ],
      "metadata": {
        "id": "yOC6tq6nH2Zn"
      },
      "execution_count": null,
      "outputs": []
    },
    {
      "cell_type": "markdown",
      "source": [
        "# 1. Statistical Analysis:"
      ],
      "metadata": {
        "id": "hdmSPUO6WvNE"
      }
    },
    {
      "cell_type": "code",
      "source": [
        "from scapy.all import rdpcap\n",
        "from phe import paillier\n",
        "import ipaddress\n",
        "from google.colab import files\n",
        "\n",
        "# Step 1: Upload the PCAP file\n",
        "uploaded = files.upload()\n",
        "\n",
        "# Extract the filename from the uploaded dictionary\n",
        "filename = next(iter(uploaded))\n",
        "\n",
        "# Load the PCAP file\n",
        "packets = rdpcap(filename)\n",
        "\n",
        "# Step 2: Encrypt the source IP addresses\n",
        "public_key, private_key = paillier.generate_paillier_keypair()\n",
        "encrypted_src_ips = []\n",
        "\n",
        "for pkt in packets:\n",
        "    if pkt.haslayer('IP'):\n",
        "        # Encrypt each source IP\n",
        "        ip_num = int(ipaddress.ip_address(pkt['IP'].src))\n",
        "        encrypted_ip = public_key.encrypt(ip_num)\n",
        "        encrypted_src_ips.append(encrypted_ip)\n",
        "\n",
        "# Step 3: Analyze encrypted IP addresses (e.g., count occurrences)\n",
        "# This will just give the count of encrypted IPs as analysis\n",
        "encrypted_count = public_key.encrypt(len(encrypted_src_ips))\n",
        "\n",
        "# Step 4: Show results\n",
        "print(f\"Encrypted Count of Source IPs: {encrypted_count}\")\n",
        "\n",
        "# Step 5: Decrypt the count for verification\n",
        "decrypted_count = private_key.decrypt(encrypted_count)\n",
        "print(f\"Decrypted Count of Source IPs: {decrypted_count}\")\n",
        "\n",
        "# Step 6: Example: Demonstrating analysis of encrypted data\n",
        "# Count occurrences of each unique encrypted IP\n",
        "from collections import Counter\n",
        "encrypted_ip_counts = Counter(encrypted_src_ips)\n",
        "\n",
        "# Display the encrypted counts of each unique IP (can be shown without decryption)\n",
        "print(f\"Encrypted IP Counts (Encrypted Values): {encrypted_ip_counts}\")\n"
      ],
      "metadata": {
        "colab": {
          "base_uri": "https://localhost:8080/",
          "height": 144
        },
        "id": "8ezvieYr1afN",
        "outputId": "3c8d772b-6f8e-4262-f926-a319a4a4a008"
      },
      "execution_count": null,
      "outputs": [
        {
          "output_type": "display_data",
          "data": {
            "text/plain": [
              "<IPython.core.display.HTML object>"
            ],
            "text/html": [
              "\n",
              "     <input type=\"file\" id=\"files-d5ebf12f-43d3-4aa6-bd5b-4c36eea0f311\" name=\"files[]\" multiple disabled\n",
              "        style=\"border:none\" />\n",
              "     <output id=\"result-d5ebf12f-43d3-4aa6-bd5b-4c36eea0f311\">\n",
              "      Upload widget is only available when the cell has been executed in the\n",
              "      current browser session. Please rerun this cell to enable.\n",
              "      </output>\n",
              "      <script>// Copyright 2017 Google LLC\n",
              "//\n",
              "// Licensed under the Apache License, Version 2.0 (the \"License\");\n",
              "// you may not use this file except in compliance with the License.\n",
              "// You may obtain a copy of the License at\n",
              "//\n",
              "//      http://www.apache.org/licenses/LICENSE-2.0\n",
              "//\n",
              "// Unless required by applicable law or agreed to in writing, software\n",
              "// distributed under the License is distributed on an \"AS IS\" BASIS,\n",
              "// WITHOUT WARRANTIES OR CONDITIONS OF ANY KIND, either express or implied.\n",
              "// See the License for the specific language governing permissions and\n",
              "// limitations under the License.\n",
              "\n",
              "/**\n",
              " * @fileoverview Helpers for google.colab Python module.\n",
              " */\n",
              "(function(scope) {\n",
              "function span(text, styleAttributes = {}) {\n",
              "  const element = document.createElement('span');\n",
              "  element.textContent = text;\n",
              "  for (const key of Object.keys(styleAttributes)) {\n",
              "    element.style[key] = styleAttributes[key];\n",
              "  }\n",
              "  return element;\n",
              "}\n",
              "\n",
              "// Max number of bytes which will be uploaded at a time.\n",
              "const MAX_PAYLOAD_SIZE = 100 * 1024;\n",
              "\n",
              "function _uploadFiles(inputId, outputId) {\n",
              "  const steps = uploadFilesStep(inputId, outputId);\n",
              "  const outputElement = document.getElementById(outputId);\n",
              "  // Cache steps on the outputElement to make it available for the next call\n",
              "  // to uploadFilesContinue from Python.\n",
              "  outputElement.steps = steps;\n",
              "\n",
              "  return _uploadFilesContinue(outputId);\n",
              "}\n",
              "\n",
              "// This is roughly an async generator (not supported in the browser yet),\n",
              "// where there are multiple asynchronous steps and the Python side is going\n",
              "// to poll for completion of each step.\n",
              "// This uses a Promise to block the python side on completion of each step,\n",
              "// then passes the result of the previous step as the input to the next step.\n",
              "function _uploadFilesContinue(outputId) {\n",
              "  const outputElement = document.getElementById(outputId);\n",
              "  const steps = outputElement.steps;\n",
              "\n",
              "  const next = steps.next(outputElement.lastPromiseValue);\n",
              "  return Promise.resolve(next.value.promise).then((value) => {\n",
              "    // Cache the last promise value to make it available to the next\n",
              "    // step of the generator.\n",
              "    outputElement.lastPromiseValue = value;\n",
              "    return next.value.response;\n",
              "  });\n",
              "}\n",
              "\n",
              "/**\n",
              " * Generator function which is called between each async step of the upload\n",
              " * process.\n",
              " * @param {string} inputId Element ID of the input file picker element.\n",
              " * @param {string} outputId Element ID of the output display.\n",
              " * @return {!Iterable<!Object>} Iterable of next steps.\n",
              " */\n",
              "function* uploadFilesStep(inputId, outputId) {\n",
              "  const inputElement = document.getElementById(inputId);\n",
              "  inputElement.disabled = false;\n",
              "\n",
              "  const outputElement = document.getElementById(outputId);\n",
              "  outputElement.innerHTML = '';\n",
              "\n",
              "  const pickedPromise = new Promise((resolve) => {\n",
              "    inputElement.addEventListener('change', (e) => {\n",
              "      resolve(e.target.files);\n",
              "    });\n",
              "  });\n",
              "\n",
              "  const cancel = document.createElement('button');\n",
              "  inputElement.parentElement.appendChild(cancel);\n",
              "  cancel.textContent = 'Cancel upload';\n",
              "  const cancelPromise = new Promise((resolve) => {\n",
              "    cancel.onclick = () => {\n",
              "      resolve(null);\n",
              "    };\n",
              "  });\n",
              "\n",
              "  // Wait for the user to pick the files.\n",
              "  const files = yield {\n",
              "    promise: Promise.race([pickedPromise, cancelPromise]),\n",
              "    response: {\n",
              "      action: 'starting',\n",
              "    }\n",
              "  };\n",
              "\n",
              "  cancel.remove();\n",
              "\n",
              "  // Disable the input element since further picks are not allowed.\n",
              "  inputElement.disabled = true;\n",
              "\n",
              "  if (!files) {\n",
              "    return {\n",
              "      response: {\n",
              "        action: 'complete',\n",
              "      }\n",
              "    };\n",
              "  }\n",
              "\n",
              "  for (const file of files) {\n",
              "    const li = document.createElement('li');\n",
              "    li.append(span(file.name, {fontWeight: 'bold'}));\n",
              "    li.append(span(\n",
              "        `(${file.type || 'n/a'}) - ${file.size} bytes, ` +\n",
              "        `last modified: ${\n",
              "            file.lastModifiedDate ? file.lastModifiedDate.toLocaleDateString() :\n",
              "                                    'n/a'} - `));\n",
              "    const percent = span('0% done');\n",
              "    li.appendChild(percent);\n",
              "\n",
              "    outputElement.appendChild(li);\n",
              "\n",
              "    const fileDataPromise = new Promise((resolve) => {\n",
              "      const reader = new FileReader();\n",
              "      reader.onload = (e) => {\n",
              "        resolve(e.target.result);\n",
              "      };\n",
              "      reader.readAsArrayBuffer(file);\n",
              "    });\n",
              "    // Wait for the data to be ready.\n",
              "    let fileData = yield {\n",
              "      promise: fileDataPromise,\n",
              "      response: {\n",
              "        action: 'continue',\n",
              "      }\n",
              "    };\n",
              "\n",
              "    // Use a chunked sending to avoid message size limits. See b/62115660.\n",
              "    let position = 0;\n",
              "    do {\n",
              "      const length = Math.min(fileData.byteLength - position, MAX_PAYLOAD_SIZE);\n",
              "      const chunk = new Uint8Array(fileData, position, length);\n",
              "      position += length;\n",
              "\n",
              "      const base64 = btoa(String.fromCharCode.apply(null, chunk));\n",
              "      yield {\n",
              "        response: {\n",
              "          action: 'append',\n",
              "          file: file.name,\n",
              "          data: base64,\n",
              "        },\n",
              "      };\n",
              "\n",
              "      let percentDone = fileData.byteLength === 0 ?\n",
              "          100 :\n",
              "          Math.round((position / fileData.byteLength) * 100);\n",
              "      percent.textContent = `${percentDone}% done`;\n",
              "\n",
              "    } while (position < fileData.byteLength);\n",
              "  }\n",
              "\n",
              "  // All done.\n",
              "  yield {\n",
              "    response: {\n",
              "      action: 'complete',\n",
              "    }\n",
              "  };\n",
              "}\n",
              "\n",
              "scope.google = scope.google || {};\n",
              "scope.google.colab = scope.google.colab || {};\n",
              "scope.google.colab._files = {\n",
              "  _uploadFiles,\n",
              "  _uploadFilesContinue,\n",
              "};\n",
              "})(self);\n",
              "</script> "
            ]
          },
          "metadata": {}
        },
        {
          "output_type": "stream",
          "name": "stdout",
          "text": [
            "Saving evidence01.pcap to evidence01.pcap\n",
            "Encrypted Count of Source IPs: <phe.paillier.EncryptedNumber object at 0x7f385b5f2aa0>\n",
            "Decrypted Count of Source IPs: 220\n",
            "Encrypted IP Counts (Encrypted Values): Counter({<phe.paillier.EncryptedNumber object at 0x7f385b5a5810>: 1, <phe.paillier.EncryptedNumber object at 0x7f385b5a5900>: 1, <phe.paillier.EncryptedNumber object at 0x7f385b5a5a80>: 1, <phe.paillier.EncryptedNumber object at 0x7f385b5a5ae0>: 1, <phe.paillier.EncryptedNumber object at 0x7f385b5a5b40>: 1, <phe.paillier.EncryptedNumber object at 0x7f385b5a5ba0>: 1, <phe.paillier.EncryptedNumber object at 0x7f385b5a5c00>: 1, <phe.paillier.EncryptedNumber object at 0x7f385b5a5c60>: 1, <phe.paillier.EncryptedNumber object at 0x7f385b5a5cc0>: 1, <phe.paillier.EncryptedNumber object at 0x7f385b5a5d20>: 1, <phe.paillier.EncryptedNumber object at 0x7f385b5a5d80>: 1, <phe.paillier.EncryptedNumber object at 0x7f385b5a5de0>: 1, <phe.paillier.EncryptedNumber object at 0x7f385b5a5e40>: 1, <phe.paillier.EncryptedNumber object at 0x7f385b5a5ea0>: 1, <phe.paillier.EncryptedNumber object at 0x7f385ba91b70>: 1, <phe.paillier.EncryptedNumber object at 0x7f385b5a5870>: 1, <phe.paillier.EncryptedNumber object at 0x7f385b5a59f0>: 1, <phe.paillier.EncryptedNumber object at 0x7f385b5a5a20>: 1, <phe.paillier.EncryptedNumber object at 0x7f385b5a5f30>: 1, <phe.paillier.EncryptedNumber object at 0x7f385b5a6080>: 1, <phe.paillier.EncryptedNumber object at 0x7f385b5a6110>: 1, <phe.paillier.EncryptedNumber object at 0x7f385b5a6170>: 1, <phe.paillier.EncryptedNumber object at 0x7f385b5a61d0>: 1, <phe.paillier.EncryptedNumber object at 0x7f385b5a6230>: 1, <phe.paillier.EncryptedNumber object at 0x7f385b5a6290>: 1, <phe.paillier.EncryptedNumber object at 0x7f385b5a62f0>: 1, <phe.paillier.EncryptedNumber object at 0x7f385b5a6260>: 1, <phe.paillier.EncryptedNumber object at 0x7f385b5a63b0>: 1, <phe.paillier.EncryptedNumber object at 0x7f385b5a56c0>: 1, <phe.paillier.EncryptedNumber object at 0x7f385b5a5840>: 1, <phe.paillier.EncryptedNumber object at 0x7f385b5a5f90>: 1, <phe.paillier.EncryptedNumber object at 0x7f385b5a6410>: 1, <phe.paillier.EncryptedNumber object at 0x7f385b5a6560>: 1, <phe.paillier.EncryptedNumber object at 0x7f385b5a6380>: 1, <phe.paillier.EncryptedNumber object at 0x7f385b5a6590>: 1, <phe.paillier.EncryptedNumber object at 0x7f385b5a62c0>: 1, <phe.paillier.EncryptedNumber object at 0x7f385b5a6620>: 1, <phe.paillier.EncryptedNumber object at 0x7f385b5a6650>: 1, <phe.paillier.EncryptedNumber object at 0x7f385b5a66b0>: 1, <phe.paillier.EncryptedNumber object at 0x7f385b5a6710>: 1, <phe.paillier.EncryptedNumber object at 0x7f385b5a67d0>: 1, <phe.paillier.EncryptedNumber object at 0x7f385b5a68f0>: 1, <phe.paillier.EncryptedNumber object at 0x7f385b5a6950>: 1, <phe.paillier.EncryptedNumber object at 0x7f385b5a6800>: 1, <phe.paillier.EncryptedNumber object at 0x7f385b5a6a10>: 1, <phe.paillier.EncryptedNumber object at 0x7f385b5a6a70>: 1, <phe.paillier.EncryptedNumber object at 0x7f385b5a6ad0>: 1, <phe.paillier.EncryptedNumber object at 0x7f385b5a6a40>: 1, <phe.paillier.EncryptedNumber object at 0x7f385b5a6b90>: 1, <phe.paillier.EncryptedNumber object at 0x7f385b5a6bf0>: 1, <phe.paillier.EncryptedNumber object at 0x7f385b5a6470>: 1, <phe.paillier.EncryptedNumber object at 0x7f385b5a6440>: 1, <phe.paillier.EncryptedNumber object at 0x7f385b5a6740>: 1, <phe.paillier.EncryptedNumber object at 0x7f385b5a6bc0>: 1, <phe.paillier.EncryptedNumber object at 0x7f385b5a6aa0>: 1, <phe.paillier.EncryptedNumber object at 0x7f385b5a6d10>: 1, <phe.paillier.EncryptedNumber object at 0x7f385b5a6e60>: 1, <phe.paillier.EncryptedNumber object at 0x7f385b5a6ef0>: 1, <phe.paillier.EncryptedNumber object at 0x7f385b5a6f50>: 1, <phe.paillier.EncryptedNumber object at 0x7f385b5a6fe0>: 1, <phe.paillier.EncryptedNumber object at 0x7f385b5a6e30>: 1, <phe.paillier.EncryptedNumber object at 0x7f385b5a7070>: 1, <phe.paillier.EncryptedNumber object at 0x7f385b5a5f60>: 1, <phe.paillier.EncryptedNumber object at 0x7f385b5a6c80>: 1, <phe.paillier.EncryptedNumber object at 0x7f385b5a6d70>: 1, <phe.paillier.EncryptedNumber object at 0x7f385b5a6fb0>: 1, <phe.paillier.EncryptedNumber object at 0x7f385b5a7220>: 1, <phe.paillier.EncryptedNumber object at 0x7f385b5a71f0>: 1, <phe.paillier.EncryptedNumber object at 0x7f385b5a6770>: 1, <phe.paillier.EncryptedNumber object at 0x7f385b5a7100>: 1, <phe.paillier.EncryptedNumber object at 0x7f385b5a7310>: 1, <phe.paillier.EncryptedNumber object at 0x7f385b5a7430>: 1, <phe.paillier.EncryptedNumber object at 0x7f385b5a7490>: 1, <phe.paillier.EncryptedNumber object at 0x7f385b5a7340>: 1, <phe.paillier.EncryptedNumber object at 0x7f385b5a7550>: 1, <phe.paillier.EncryptedNumber object at 0x7f385b5a74c0>: 1, <phe.paillier.EncryptedNumber object at 0x7f385b5a7610>: 1, <phe.paillier.EncryptedNumber object at 0x7f385b5a7580>: 1, <phe.paillier.EncryptedNumber object at 0x7f385b5a7460>: 1, <phe.paillier.EncryptedNumber object at 0x7f385b5a7670>: 1, <phe.paillier.EncryptedNumber object at 0x7f385b5a7130>: 1, <phe.paillier.EncryptedNumber object at 0x7f385b5a7280>: 1, <phe.paillier.EncryptedNumber object at 0x7f385b5a7700>: 1, <phe.paillier.EncryptedNumber object at 0x7f385b5a7790>: 1, <phe.paillier.EncryptedNumber object at 0x7f385b5a77f0>: 1, <phe.paillier.EncryptedNumber object at 0x7f385b5a78b0>: 1, <phe.paillier.EncryptedNumber object at 0x7f385b5a79d0>: 1, <phe.paillier.EncryptedNumber object at 0x7f385b5a7910>: 1, <phe.paillier.EncryptedNumber object at 0x7f385b5a7a90>: 1, <phe.paillier.EncryptedNumber object at 0x7f385b5a7640>: 1, <phe.paillier.EncryptedNumber object at 0x7f385b5a7a60>: 1, <phe.paillier.EncryptedNumber object at 0x7f385b5a76d0>: 1, <phe.paillier.EncryptedNumber object at 0x7f385b5a78e0>: 1, <phe.paillier.EncryptedNumber object at 0x7f385b5a7b50>: 1, <phe.paillier.EncryptedNumber object at 0x7f385b5a7bb0>: 1, <phe.paillier.EncryptedNumber object at 0x7f385b5a7d00>: 1, <phe.paillier.EncryptedNumber object at 0x7f385b5a7df0>: 1, <phe.paillier.EncryptedNumber object at 0x7f385b5a7820>: 1, <phe.paillier.EncryptedNumber object at 0x7f385b5a77c0>: 1, <phe.paillier.EncryptedNumber object at 0x7f385b5a7c10>: 1, <phe.paillier.EncryptedNumber object at 0x7f385b5a7d60>: 1, <phe.paillier.EncryptedNumber object at 0x7f385b5a7c40>: 1, <phe.paillier.EncryptedNumber object at 0x7f385b5a7cd0>: 1, <phe.paillier.EncryptedNumber object at 0x7f385b5a7ee0>: 1, <phe.paillier.EncryptedNumber object at 0x7f385b5a7f70>: 1, <phe.paillier.EncryptedNumber object at 0x7f385b5f0070>: 1, <phe.paillier.EncryptedNumber object at 0x7f385b5f0160>: 1, <phe.paillier.EncryptedNumber object at 0x7f385b5f01f0>: 1, <phe.paillier.EncryptedNumber object at 0x7f385b5f00a0>: 1, <phe.paillier.EncryptedNumber object at 0x7f385b5f02b0>: 1, <phe.paillier.EncryptedNumber object at 0x7f385b5f0310>: 1, <phe.paillier.EncryptedNumber object at 0x7f385b5f03a0>: 1, <phe.paillier.EncryptedNumber object at 0x7f385b5f00d0>: 1, <phe.paillier.EncryptedNumber object at 0x7f385b5a7e80>: 1, <phe.paillier.EncryptedNumber object at 0x7f385b5a7eb0>: 1, <phe.paillier.EncryptedNumber object at 0x7f385ba936d0>: 1, <phe.paillier.EncryptedNumber object at 0x7f385b5f02e0>: 1, <phe.paillier.EncryptedNumber object at 0x7f385b5f0460>: 1, <phe.paillier.EncryptedNumber object at 0x7f385b5f04f0>: 1, <phe.paillier.EncryptedNumber object at 0x7f385b5f0550>: 1, <phe.paillier.EncryptedNumber object at 0x7f385b5f0610>: 1, <phe.paillier.EncryptedNumber object at 0x7f385b5f0760>: 1, <phe.paillier.EncryptedNumber object at 0x7f385b5f05e0>: 1, <phe.paillier.EncryptedNumber object at 0x7f385b5f0400>: 1, <phe.paillier.EncryptedNumber object at 0x7f385b5f0580>: 1, <phe.paillier.EncryptedNumber object at 0x7f385b5f07f0>: 1, <phe.paillier.EncryptedNumber object at 0x7f385b5f0700>: 1, <phe.paillier.EncryptedNumber object at 0x7f385b5f08b0>: 1, <phe.paillier.EncryptedNumber object at 0x7f385b5f09d0>: 1, <phe.paillier.EncryptedNumber object at 0x7f385b5f0a30>: 1, <phe.paillier.EncryptedNumber object at 0x7f385b5f0a90>: 1, <phe.paillier.EncryptedNumber object at 0x7f385b5a7fd0>: 1, <phe.paillier.EncryptedNumber object at 0x7f385b5f0640>: 1, <phe.paillier.EncryptedNumber object at 0x7f385b5f07c0>: 1, <phe.paillier.EncryptedNumber object at 0x7f385b5f0a00>: 1, <phe.paillier.EncryptedNumber object at 0x7f385b5f0b50>: 1, <phe.paillier.EncryptedNumber object at 0x7f385b5f0ca0>: 1, <phe.paillier.EncryptedNumber object at 0x7f385b5f0c70>: 1, <phe.paillier.EncryptedNumber object at 0x7f385b5f0be0>: 1, <phe.paillier.EncryptedNumber object at 0x7f385b5f0cd0>: 1, <phe.paillier.EncryptedNumber object at 0x7f385b5f0bb0>: 1, <phe.paillier.EncryptedNumber object at 0x7f385b5f0c40>: 1, <phe.paillier.EncryptedNumber object at 0x7f385b5f0ee0>: 1, <phe.paillier.EncryptedNumber object at 0x7f385b5f0f70>: 1, <phe.paillier.EncryptedNumber object at 0x7f385b5f0fd0>: 1, <phe.paillier.EncryptedNumber object at 0x7f385b5f1030>: 1, <phe.paillier.EncryptedNumber object at 0x7f385b5f1090>: 1, <phe.paillier.EncryptedNumber object at 0x7f385b5f10f0>: 1, <phe.paillier.EncryptedNumber object at 0x7f385b5f1150>: 1, <phe.paillier.EncryptedNumber object at 0x7f385b5f11b0>: 1, <phe.paillier.EncryptedNumber object at 0x7f385b5f1120>: 1, <phe.paillier.EncryptedNumber object at 0x7f385b5f1270>: 1, <phe.paillier.EncryptedNumber object at 0x7f385b5f11e0>: 1, <phe.paillier.EncryptedNumber object at 0x7f385b5f1330>: 1, <phe.paillier.EncryptedNumber object at 0x7f385b5f1390>: 1, <phe.paillier.EncryptedNumber object at 0x7f385b5f0850>: 1, <phe.paillier.EncryptedNumber object at 0x7f385b5f1360>: 1, <phe.paillier.EncryptedNumber object at 0x7f385b5f0d00>: 1, <phe.paillier.EncryptedNumber object at 0x7f385b5f1450>: 1, <phe.paillier.EncryptedNumber object at 0x7f385b5f1180>: 1, <phe.paillier.EncryptedNumber object at 0x7f385b5f1510>: 1, <phe.paillier.EncryptedNumber object at 0x7f385b5f1630>: 1, <phe.paillier.EncryptedNumber object at 0x7f385b5f1690>: 1, <phe.paillier.EncryptedNumber object at 0x7f385b5f1720>: 1, <phe.paillier.EncryptedNumber object at 0x7f385b5f1540>: 1, <phe.paillier.EncryptedNumber object at 0x7f385b5f12a0>: 1, <phe.paillier.EncryptedNumber object at 0x7f385b5f0e20>: 1, <phe.paillier.EncryptedNumber object at 0x7f385b5f13f0>: 1, <phe.paillier.EncryptedNumber object at 0x7f385b5f16c0>: 1, <phe.paillier.EncryptedNumber object at 0x7f385b5f14e0>: 1, <phe.paillier.EncryptedNumber object at 0x7f385b5f17e0>: 1, <phe.paillier.EncryptedNumber object at 0x7f385b5f1900>: 1, <phe.paillier.EncryptedNumber object at 0x7f385b5f1480>: 1, <phe.paillier.EncryptedNumber object at 0x7f385b5f1990>: 1, <phe.paillier.EncryptedNumber object at 0x7f385b5f19f0>: 1, <phe.paillier.EncryptedNumber object at 0x7f385b5f1ab0>: 1, <phe.paillier.EncryptedNumber object at 0x7f385b5f1bd0>: 1, <phe.paillier.EncryptedNumber object at 0x7f385b5f1b10>: 1, <phe.paillier.EncryptedNumber object at 0x7f385b5f1c90>: 1, <phe.paillier.EncryptedNumber object at 0x7f385b5f1cf0>: 1, <phe.paillier.EncryptedNumber object at 0x7f385b5f1d50>: 1, <phe.paillier.EncryptedNumber object at 0x7f385b5f18d0>: 1, <phe.paillier.EncryptedNumber object at 0x7f385b5f1ae0>: 1, <phe.paillier.EncryptedNumber object at 0x7f385b5f19c0>: 1, <phe.paillier.EncryptedNumber object at 0x7f385b5f1a20>: 1, <phe.paillier.EncryptedNumber object at 0x7f385b5f1de0>: 1, <phe.paillier.EncryptedNumber object at 0x7f385b5f1e70>: 1, <phe.paillier.EncryptedNumber object at 0x7f385b5f1ed0>: 1, <phe.paillier.EncryptedNumber object at 0x7f385b5f1f90>: 1, <phe.paillier.EncryptedNumber object at 0x7f385b5f20b0>: 1, <phe.paillier.EncryptedNumber object at 0x7f385b5f1ff0>: 1, <phe.paillier.EncryptedNumber object at 0x7f385b5f2170>: 1, <phe.paillier.EncryptedNumber object at 0x7f385b5f21d0>: 1, <phe.paillier.EncryptedNumber object at 0x7f385b5f2230>: 1, <phe.paillier.EncryptedNumber object at 0x7f385b5f2290>: 1, <phe.paillier.EncryptedNumber object at 0x7f385b5f22f0>: 1, <phe.paillier.EncryptedNumber object at 0x7f385b5f1a50>: 1, <phe.paillier.EncryptedNumber object at 0x7f385b5f1f00>: 1, <phe.paillier.EncryptedNumber object at 0x7f385b5f1f30>: 1, <phe.paillier.EncryptedNumber object at 0x7f385b5f2350>: 1, <phe.paillier.EncryptedNumber object at 0x7f385b5f2380>: 1, <phe.paillier.EncryptedNumber object at 0x7f385b5f2410>: 1, <phe.paillier.EncryptedNumber object at 0x7f385b5f1f60>: 1, <phe.paillier.EncryptedNumber object at 0x7f385b5f2440>: 1, <phe.paillier.EncryptedNumber object at 0x7f385b5f2500>: 1, <phe.paillier.EncryptedNumber object at 0x7f385b5f24d0>: 1, <phe.paillier.EncryptedNumber object at 0x7f385b5f26e0>: 1, <phe.paillier.EncryptedNumber object at 0x7f385b5f2740>: 1, <phe.paillier.EncryptedNumber object at 0x7f385b5f27a0>: 1, <phe.paillier.EncryptedNumber object at 0x7f385b5f2830>: 1, <phe.paillier.EncryptedNumber object at 0x7f385b5f2890>: 1, <phe.paillier.EncryptedNumber object at 0x7f385b5f28f0>: 1, <phe.paillier.EncryptedNumber object at 0x7f385b5f2950>: 1, <phe.paillier.EncryptedNumber object at 0x7f385b5f1ea0>: 1, <phe.paillier.EncryptedNumber object at 0x7f385b5f2920>: 1, <phe.paillier.EncryptedNumber object at 0x7f385b5f25c0>: 1, <phe.paillier.EncryptedNumber object at 0x7f385b5f24a0>: 1, <phe.paillier.EncryptedNumber object at 0x7f385b5f29b0>: 1, <phe.paillier.EncryptedNumber object at 0x7f385b5f2a70>: 1, <phe.paillier.EncryptedNumber object at 0x7f385b5f2ad0>: 1})\n"
          ]
        }
      ]
    },
    {
      "cell_type": "markdown",
      "source": [
        "# 2. Clustering\n",
        "\n",
        "Encryption Properties: The properties of the encryption dictate how we can analyze and cluster the data:\n",
        "\n",
        "Preserving Order: Some homomorphic encryptions allow for operations that preserve the order of the values. This means that if IP_A < IP_B, then Enc(IP_A) < Enc(IP_B). However, not all encryption schemes have this property.\n",
        "Additive and Multiplicative Operations: In Paillier encryption, you can perform addition on encrypted values, but not direct multiplication. Thus, you can compute sums of encrypted values and count occurrences without decrypting them."
      ],
      "metadata": {
        "id": "TdMTDipRWzJl"
      }
    },
    {
      "cell_type": "code",
      "source": [],
      "metadata": {
        "id": "_f5R6S4TWxj1"
      },
      "execution_count": null,
      "outputs": []
    },
    {
      "cell_type": "markdown",
      "source": [
        "# 3. Anomaly Detection\n",
        "comparing encrypted values against a threshold or an expected distribution"
      ],
      "metadata": {
        "id": "F0SXikkxW0eJ"
      }
    },
    {
      "cell_type": "code",
      "source": [],
      "metadata": {
        "id": "cEmDaiCnXAUk"
      },
      "execution_count": null,
      "outputs": []
    },
    {
      "cell_type": "markdown",
      "source": [
        "# 4. Frequency Analysis:\n",
        "You can analyze the frequency of occurrences of specific patterns or behaviors in the encrypted data. (eg. some specific domain)"
      ],
      "metadata": {
        "id": "-xw-EuQ8XBRx"
      }
    },
    {
      "cell_type": "code",
      "source": [],
      "metadata": {
        "id": "7fMIa_uwXFTJ"
      },
      "execution_count": null,
      "outputs": []
    },
    {
      "cell_type": "markdown",
      "source": [
        "# **Polymorphic** Virus generation using GAN\n",
        "\n",
        "This involves creating **variations of malicious code** that remain functional but appear different to avoid detection. GANs can generate new variations by learning from existing malware patterns.\n",
        "\n",
        "BT activity: Generating mutations of viruses that can then give me their signatures, which then I'll add in signature-based AV to avoid risk of zero days. Use honeypots for these newly generated New Malware Variants to lure attackers into simulated environments where their actions can be observed and analyzed.\n",
        "\n",
        "RT activity: for Generating Obfuscated Code Snippets for Evasion Techniques (achieve APT for further lateral movement) by avoiding detection from static-analysis tools)"
      ],
      "metadata": {
        "id": "yqPL7YEX6GfZ"
      }
    },
    {
      "cell_type": "markdown",
      "source": [
        "ip: av signature\n",
        "\n",
        "op: some signature that av might not recognize but has the same functionality as above one"
      ],
      "metadata": {
        "id": "m6m05N8WXHsL"
      }
    },
    {
      "cell_type": "code",
      "source": [],
      "metadata": {
        "id": "3Wi0sZJJXHO4"
      },
      "execution_count": null,
      "outputs": []
    }
  ]
}