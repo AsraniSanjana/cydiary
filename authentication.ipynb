{
  "nbformat": 4,
  "nbformat_minor": 0,
  "metadata": {
    "colab": {
      "provenance": [],
      "authorship_tag": "ABX9TyNpjevWDo2UezHe158NBIVo",
      "include_colab_link": true
    },
    "kernelspec": {
      "name": "python3",
      "display_name": "Python 3"
    },
    "language_info": {
      "name": "python"
    }
  },
  "cells": [
    {
      "cell_type": "markdown",
      "metadata": {
        "id": "view-in-github",
        "colab_type": "text"
      },
      "source": [
        "<a href=\"https://colab.research.google.com/github/AsraniSanjana/cydiary/blob/main/authentication.ipynb\" target=\"_parent\"><img src=\"https://colab.research.google.com/assets/colab-badge.svg\" alt=\"Open In Colab\"/></a>"
      ]
    },
    {
      "cell_type": "markdown",
      "source": [
        "3 Factors in Authentication:\n",
        "\n",
        "---\n",
        "\n",
        "1. something you **know** or ***KBA***: pswd, pin, security questions\n",
        "2. something you **have**:\n",
        "certificate in a smart card\n",
        "token: hardware\n",
        "     : json jwt\n",
        "     : OAuth Tokens (Social Authentication (Login with Google))\n",
        "     : SAML tokens (SSO)\n",
        "     : otp\n",
        "3. something you **are** (inherence): biometrics\n",
        " - fingerprint/face/eye/voice\n",
        " - behavioral biometrics (e.g., typing patterns, gait analysis).\n",
        "\n",
        "\n",
        "4. where you are (location): Geofencing based on ip address\n",
        "5. when you are (time): Access Scheduling, Session Timeouts\n",
        "\n",
        "6. Risk-Based Authentication (Contextual Authentication) or adaptive authentication\n",
        "\n",
        "7. Passwordless Authentication: Magic Links, FIDO2/WebAuthn, ZKP"
      ],
      "metadata": {
        "id": "5eD-ETxt4hlA"
      }
    },
    {
      "cell_type": "markdown",
      "source": [
        "#**Adaptive Authentication**\n",
        "does not have a definite beginning and an end"
      ],
      "metadata": {
        "id": "bEBNP0Z63xVQ"
      }
    },
    {
      "cell_type": "markdown",
      "source": [
        "# Behavioural Authentication"
      ],
      "metadata": {
        "id": "EGpHme3T5aZ_"
      }
    },
    {
      "cell_type": "code",
      "source": [],
      "metadata": {
        "id": "ZQAF6DwhLcx4"
      },
      "execution_count": null,
      "outputs": []
    },
    {
      "cell_type": "markdown",
      "source": [
        "# Contextual Authentication"
      ],
      "metadata": {
        "id": "I5n_Ap2yLYDi"
      }
    },
    {
      "cell_type": "code",
      "source": [],
      "metadata": {
        "id": "PqxXtSMc4ku5"
      },
      "execution_count": null,
      "outputs": []
    },
    {
      "cell_type": "markdown",
      "source": [
        "# **ZKP**\n",
        "No secret is transmitted"
      ],
      "metadata": {
        "id": "wnIDYxj64c5O"
      }
    },
    {
      "cell_type": "code",
      "source": [],
      "metadata": {
        "id": "GUZ24Wn75aDH"
      },
      "execution_count": null,
      "outputs": []
    },
    {
      "cell_type": "code",
      "source": [],
      "metadata": {
        "id": "Oy3Nzb0L6agM"
      },
      "execution_count": null,
      "outputs": []
    }
  ]
}